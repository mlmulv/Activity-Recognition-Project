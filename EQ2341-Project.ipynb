{
 "cells": [
  {
   "cell_type": "code",
   "execution_count": 1,
   "id": "4aa2c191-962c-4cde-ae57-326edb834771",
   "metadata": {},
   "outputs": [],
   "source": [
    "from src.preprocess import preprocess\n",
    "from src.HMM import test\n",
    "import numpy as np"
   ]
  },
  {
   "cell_type": "code",
   "execution_count": 2,
   "id": "de606d9d-f6a5-43bb-b646-09ed986d21d1",
   "metadata": {},
   "outputs": [],
   "source": [
    "X_train, X_test, y_train, y_test = preprocess()"
   ]
  },
  {
   "cell_type": "code",
   "execution_count": 3,
   "id": "9cecf757-9599-49ae-8b18-f8711e40687d",
   "metadata": {},
   "outputs": [
    {
     "name": "stdout",
     "output_type": "stream",
     "text": [
      "Accuracy: 0.6793390650188071\n",
      "Classification Report:\n",
      "               precision    recall  f1-score   support\n",
      "\n",
      "           0       1.00      0.78      0.87      3197\n",
      "           1       0.62      0.49      0.55      2960\n",
      "           2       0.43      0.86      0.57      1287\n",
      "\n",
      "    accuracy                           0.68      7444\n",
      "   macro avg       0.68      0.71      0.67      7444\n",
      "weighted avg       0.75      0.68      0.69      7444\n",
      "\n"
     ]
    }
   ],
   "source": [
    "featStand = X_train[y_train == 0].values\n",
    "featWalk = X_train[y_train == 1].values\n",
    "featRun = X_train[y_train == 2].values\n",
    "featTest = X_test.values\n",
    "\n",
    "predLabels = test(featStand, featWalk, featRun, featTest)\n",
    "\n",
    "from sklearn.metrics import accuracy_score, classification_report\n",
    "\n",
    "print(\"Accuracy:\", accuracy_score(y_test, predLabels))\n",
    "print(\"Classification Report:\\n\", classification_report(y_test, predLabels))"
   ]
  }
 ],
 "metadata": {
  "kernelspec": {
   "display_name": "Python 3 (ipykernel)",
   "language": "python",
   "name": "python3"
  },
  "language_info": {
   "codemirror_mode": {
    "name": "ipython",
    "version": 3
   },
   "file_extension": ".py",
   "mimetype": "text/x-python",
   "name": "python",
   "nbconvert_exporter": "python",
   "pygments_lexer": "ipython3",
   "version": "3.13.2"
  }
 },
 "nbformat": 4,
 "nbformat_minor": 5
}
