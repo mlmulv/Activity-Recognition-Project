{
 "cells": [
  {
   "cell_type": "code",
   "execution_count": null,
   "id": "4aa2c191-962c-4cde-ae57-326edb834771",
   "metadata": {},
   "outputs": [],
   "source": [
    "from src.preprocess import preprocess\n",
    "from src.HMM import train\n",
    "import numpy as np"
   ]
  },
  {
   "cell_type": "code",
   "execution_count": null,
   "id": "de606d9d-f6a5-43bb-b646-09ed986d21d1",
   "metadata": {},
   "outputs": [],
   "source": [
    "X_train, X_test, y_train, y_test = preprocess()"
   ]
  },
  {
   "cell_type": "code",
   "execution_count": null,
   "id": "9cecf757-9599-49ae-8b18-f8711e40687d",
   "metadata": {},
   "outputs": [],
   "source": [
    "features = X_train[y_train == 'stand'].values()"
   ]
  },
  {
   "cell_type": "code",
   "execution_count": null,
   "id": "ec1dd7e0-9b8f-4419-b0d6-0ae76c7f8534",
   "metadata": {},
   "outputs": [],
   "source": [
    "features"
   ]
  },
  {
   "cell_type": "code",
   "execution_count": null,
   "id": "834c9643-35bd-4c1c-ad89-30dac66495db",
   "metadata": {},
   "outputs": [],
   "source": [
    "model = train(features)"
   ]
  }
 ],
 "metadata": {
  "kernelspec": {
   "display_name": "Python 3 (ipykernel)",
   "language": "python",
   "name": "python3"
  },
  "language_info": {
   "codemirror_mode": {
    "name": "ipython",
    "version": 3
   },
   "file_extension": ".py",
   "mimetype": "text/x-python",
   "name": "python",
   "nbconvert_exporter": "python",
   "pygments_lexer": "ipython3",
   "version": "3.13.2"
  }
 },
 "nbformat": 4,
 "nbformat_minor": 5
}
